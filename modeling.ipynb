{
 "cells": [
  {
   "cell_type": "markdown",
   "id": "24e233aa-59eb-4d1b-987d-062e98f04c12",
   "metadata": {},
   "source": [
    "# Stock Price Forecasting with Long Short-Term Memory Network and Feature Extraction by Autoencoders"
   ]
  },
  {
   "cell_type": "markdown",
   "id": "23ea6b09-1566-453e-a268-9ebe9a65e51b",
   "metadata": {},
   "source": [
    "## Libraries"
   ]
  },
  {
   "cell_type": "code",
   "execution_count": 1,
   "id": "987b5fed-07ee-426b-ab4f-c8e6243166c0",
   "metadata": {},
   "outputs": [],
   "source": [
    "import pandas as pd\n",
    "import numpy as np\n",
    "from datetime import datetime\n",
    "from sklearn.preprocessing import MinMaxScaler\n",
    "from sklearn.metrics import confusion_matrix, ConfusionMatrixDisplay\n",
    "\n",
    "# Modeling\n",
    "import tensorflow as tf\n",
    "from tensorflow.keras.layers import Input, Dense, Dropout\n",
    "from tensorflow.keras.models import Model\n",
    "from keras.models import Sequential\n",
    "from keras.layers import LSTM\n",
    "from keras.regularizers import l2\n",
    "\n",
    "# Graphics\n",
    "import matplotlib.pyplot as plt"
   ]
  },
  {
   "cell_type": "markdown",
   "id": "0bfd527e-4e3c-44e4-81f4-6c4dadc40917",
   "metadata": {},
   "source": [
    "## Load Data"
   ]
  },
  {
   "cell_type": "code",
   "execution_count": 2,
   "id": "b7328a4e-3466-4f93-8b81-139dc0757c7e",
   "metadata": {
    "scrolled": true
   },
   "outputs": [
    {
     "data": {
      "text/html": [
       "<div>\n",
       "<style scoped>\n",
       "    .dataframe tbody tr th:only-of-type {\n",
       "        vertical-align: middle;\n",
       "    }\n",
       "\n",
       "    .dataframe tbody tr th {\n",
       "        vertical-align: top;\n",
       "    }\n",
       "\n",
       "    .dataframe thead th {\n",
       "        text-align: right;\n",
       "    }\n",
       "</style>\n",
       "<table border=\"1\" class=\"dataframe\">\n",
       "  <thead>\n",
       "    <tr style=\"text-align: right;\">\n",
       "      <th></th>\n",
       "      <th>Datetime</th>\n",
       "      <th>open</th>\n",
       "      <th>high</th>\n",
       "      <th>low</th>\n",
       "      <th>close</th>\n",
       "      <th>HT_DCPERIOD</th>\n",
       "      <th>HT_DCPHASE</th>\n",
       "      <th>ADD</th>\n",
       "      <th>DIV</th>\n",
       "      <th>MAX</th>\n",
       "      <th>...</th>\n",
       "      <th>LINEARREG_INTERCEPT</th>\n",
       "      <th>LINEARREG_SLOPE</th>\n",
       "      <th>STDDEV</th>\n",
       "      <th>TSF</th>\n",
       "      <th>VAR</th>\n",
       "      <th>ATR</th>\n",
       "      <th>NATR</th>\n",
       "      <th>TRANGE</th>\n",
       "      <th>D+0 ALTA</th>\n",
       "      <th>D+1 ALTA</th>\n",
       "    </tr>\n",
       "  </thead>\n",
       "  <tbody>\n",
       "    <tr>\n",
       "      <th>0</th>\n",
       "      <td>2023-12-04 11:29:00-03:00</td>\n",
       "      <td>127562.742188</td>\n",
       "      <td>127562.742188</td>\n",
       "      <td>127554.031250</td>\n",
       "      <td>127554.031250</td>\n",
       "      <td>21.191403</td>\n",
       "      <td>55.019323</td>\n",
       "      <td>255116.773438</td>\n",
       "      <td>1.000068</td>\n",
       "      <td>127578.218750</td>\n",
       "      <td>...</td>\n",
       "      <td>127425.843527</td>\n",
       "      <td>9.326614</td>\n",
       "      <td>23.767622</td>\n",
       "      <td>127556.416123</td>\n",
       "      <td>564.899843</td>\n",
       "      <td>27.622438</td>\n",
       "      <td>0.021655</td>\n",
       "      <td>14.585938</td>\n",
       "      <td>0</td>\n",
       "      <td>1.0</td>\n",
       "    </tr>\n",
       "    <tr>\n",
       "      <th>1</th>\n",
       "      <td>2023-12-04 11:30:00-03:00</td>\n",
       "      <td>127587.453125</td>\n",
       "      <td>127613.523438</td>\n",
       "      <td>127587.453125</td>\n",
       "      <td>127613.523438</td>\n",
       "      <td>21.119264</td>\n",
       "      <td>68.492625</td>\n",
       "      <td>255200.976562</td>\n",
       "      <td>1.000204</td>\n",
       "      <td>127613.523438</td>\n",
       "      <td>...</td>\n",
       "      <td>127436.214955</td>\n",
       "      <td>10.084633</td>\n",
       "      <td>36.381383</td>\n",
       "      <td>127577.399811</td>\n",
       "      <td>1323.605030</td>\n",
       "      <td>29.898848</td>\n",
       "      <td>0.023429</td>\n",
       "      <td>59.492188</td>\n",
       "      <td>1</td>\n",
       "      <td>1.0</td>\n",
       "    </tr>\n",
       "    <tr>\n",
       "      <th>2</th>\n",
       "      <td>2023-12-04 11:31:00-03:00</td>\n",
       "      <td>127577.640625</td>\n",
       "      <td>127591.148438</td>\n",
       "      <td>127577.640625</td>\n",
       "      <td>127591.148438</td>\n",
       "      <td>21.330968</td>\n",
       "      <td>81.644226</td>\n",
       "      <td>255168.789062</td>\n",
       "      <td>1.000106</td>\n",
       "      <td>127613.523438</td>\n",
       "      <td>...</td>\n",
       "      <td>127443.225000</td>\n",
       "      <td>10.650910</td>\n",
       "      <td>29.961326</td>\n",
       "      <td>127592.337740</td>\n",
       "      <td>897.681068</td>\n",
       "      <td>30.326274</td>\n",
       "      <td>0.023768</td>\n",
       "      <td>35.882812</td>\n",
       "      <td>1</td>\n",
       "      <td>1.0</td>\n",
       "    </tr>\n",
       "    <tr>\n",
       "      <th>3</th>\n",
       "      <td>2023-12-04 11:32:00-03:00</td>\n",
       "      <td>127615.359375</td>\n",
       "      <td>127617.046875</td>\n",
       "      <td>127615.359375</td>\n",
       "      <td>127617.046875</td>\n",
       "      <td>22.017217</td>\n",
       "      <td>94.351672</td>\n",
       "      <td>255232.406250</td>\n",
       "      <td>1.000013</td>\n",
       "      <td>127617.046875</td>\n",
       "      <td>...</td>\n",
       "      <td>127447.169866</td>\n",
       "      <td>11.804825</td>\n",
       "      <td>28.964385</td>\n",
       "      <td>127612.437414</td>\n",
       "      <td>838.935619</td>\n",
       "      <td>30.010000</td>\n",
       "      <td>0.023516</td>\n",
       "      <td>25.898438</td>\n",
       "      <td>1</td>\n",
       "      <td>0.0</td>\n",
       "    </tr>\n",
       "    <tr>\n",
       "      <th>4</th>\n",
       "      <td>2023-12-04 11:33:00-03:00</td>\n",
       "      <td>127698.460938</td>\n",
       "      <td>127698.460938</td>\n",
       "      <td>127671.132812</td>\n",
       "      <td>127671.132812</td>\n",
       "      <td>23.249552</td>\n",
       "      <td>105.744247</td>\n",
       "      <td>255369.593750</td>\n",
       "      <td>1.000214</td>\n",
       "      <td>127671.132812</td>\n",
       "      <td>...</td>\n",
       "      <td>127444.277232</td>\n",
       "      <td>14.403692</td>\n",
       "      <td>38.171279</td>\n",
       "      <td>127645.928915</td>\n",
       "      <td>1457.046568</td>\n",
       "      <td>33.681719</td>\n",
       "      <td>0.026382</td>\n",
       "      <td>81.414062</td>\n",
       "      <td>0</td>\n",
       "      <td>0.0</td>\n",
       "    </tr>\n",
       "    <tr>\n",
       "      <th>...</th>\n",
       "      <td>...</td>\n",
       "      <td>...</td>\n",
       "      <td>...</td>\n",
       "      <td>...</td>\n",
       "      <td>...</td>\n",
       "      <td>...</td>\n",
       "      <td>...</td>\n",
       "      <td>...</td>\n",
       "      <td>...</td>\n",
       "      <td>...</td>\n",
       "      <td>...</td>\n",
       "      <td>...</td>\n",
       "      <td>...</td>\n",
       "      <td>...</td>\n",
       "      <td>...</td>\n",
       "      <td>...</td>\n",
       "      <td>...</td>\n",
       "      <td>...</td>\n",
       "      <td>...</td>\n",
       "      <td>...</td>\n",
       "      <td>...</td>\n",
       "    </tr>\n",
       "    <tr>\n",
       "      <th>2004</th>\n",
       "      <td>2023-12-08 16:54:00-03:00</td>\n",
       "      <td>127066.687500</td>\n",
       "      <td>127169.757812</td>\n",
       "      <td>127066.687500</td>\n",
       "      <td>127169.757812</td>\n",
       "      <td>20.730092</td>\n",
       "      <td>168.494730</td>\n",
       "      <td>254236.445312</td>\n",
       "      <td>1.000811</td>\n",
       "      <td>127169.757812</td>\n",
       "      <td>...</td>\n",
       "      <td>126566.146652</td>\n",
       "      <td>42.908499</td>\n",
       "      <td>88.303873</td>\n",
       "      <td>127166.865642</td>\n",
       "      <td>7797.573917</td>\n",
       "      <td>51.486649</td>\n",
       "      <td>0.040487</td>\n",
       "      <td>103.070312</td>\n",
       "      <td>1</td>\n",
       "      <td>0.0</td>\n",
       "    </tr>\n",
       "    <tr>\n",
       "      <th>2005</th>\n",
       "      <td>2023-12-08 16:55:00-03:00</td>\n",
       "      <td>127180.796875</td>\n",
       "      <td>127180.796875</td>\n",
       "      <td>127145.421875</td>\n",
       "      <td>127145.421875</td>\n",
       "      <td>21.363536</td>\n",
       "      <td>171.420071</td>\n",
       "      <td>254326.218750</td>\n",
       "      <td>1.000278</td>\n",
       "      <td>127169.757812</td>\n",
       "      <td>...</td>\n",
       "      <td>126598.784375</td>\n",
       "      <td>43.763685</td>\n",
       "      <td>50.753929</td>\n",
       "      <td>127211.475962</td>\n",
       "      <td>2575.961313</td>\n",
       "      <td>50.335817</td>\n",
       "      <td>0.039589</td>\n",
       "      <td>35.375000</td>\n",
       "      <td>0</td>\n",
       "      <td>1.0</td>\n",
       "    </tr>\n",
       "    <tr>\n",
       "      <th>2006</th>\n",
       "      <td>2023-12-08 16:56:00-03:00</td>\n",
       "      <td>127111.023438</td>\n",
       "      <td>127117.781250</td>\n",
       "      <td>127111.023438</td>\n",
       "      <td>127117.781250</td>\n",
       "      <td>21.294634</td>\n",
       "      <td>175.181402</td>\n",
       "      <td>254228.804688</td>\n",
       "      <td>1.000053</td>\n",
       "      <td>127169.757812</td>\n",
       "      <td>...</td>\n",
       "      <td>126650.460045</td>\n",
       "      <td>41.409306</td>\n",
       "      <td>40.641591</td>\n",
       "      <td>127230.190333</td>\n",
       "      <td>1651.738884</td>\n",
       "      <td>49.197433</td>\n",
       "      <td>0.038702</td>\n",
       "      <td>34.398438</td>\n",
       "      <td>1</td>\n",
       "      <td>0.0</td>\n",
       "    </tr>\n",
       "    <tr>\n",
       "      <th>2007</th>\n",
       "      <td>2023-12-08 16:57:00-03:00</td>\n",
       "      <td>127118.976562</td>\n",
       "      <td>127118.976562</td>\n",
       "      <td>127101.492188</td>\n",
       "      <td>127101.492188</td>\n",
       "      <td>20.787720</td>\n",
       "      <td>179.762302</td>\n",
       "      <td>254220.468750</td>\n",
       "      <td>1.000138</td>\n",
       "      <td>127169.757812</td>\n",
       "      <td>...</td>\n",
       "      <td>126696.506027</td>\n",
       "      <td>38.894334</td>\n",
       "      <td>27.522654</td>\n",
       "      <td>127241.026700</td>\n",
       "      <td>757.496510</td>\n",
       "      <td>46.932215</td>\n",
       "      <td>0.036925</td>\n",
       "      <td>17.484375</td>\n",
       "      <td>0</td>\n",
       "      <td>1.0</td>\n",
       "    </tr>\n",
       "    <tr>\n",
       "      <th>2008</th>\n",
       "      <td>2023-12-08 16:58:00-03:00</td>\n",
       "      <td>127162.039062</td>\n",
       "      <td>127196.468750</td>\n",
       "      <td>127162.039062</td>\n",
       "      <td>127196.468750</td>\n",
       "      <td>21.100119</td>\n",
       "      <td>183.540178</td>\n",
       "      <td>254358.507812</td>\n",
       "      <td>1.000271</td>\n",
       "      <td>127196.468750</td>\n",
       "      <td>...</td>\n",
       "      <td>126736.983259</td>\n",
       "      <td>38.026185</td>\n",
       "      <td>34.318904</td>\n",
       "      <td>127269.349845</td>\n",
       "      <td>1177.787172</td>\n",
       "      <td>50.363954</td>\n",
       "      <td>0.039595</td>\n",
       "      <td>94.976562</td>\n",
       "      <td>1</td>\n",
       "      <td>0.0</td>\n",
       "    </tr>\n",
       "  </tbody>\n",
       "</table>\n",
       "<p>2009 rows × 78 columns</p>\n",
       "</div>"
      ],
      "text/plain": [
       "                       Datetime           open           high            low  \\\n",
       "0     2023-12-04 11:29:00-03:00  127562.742188  127562.742188  127554.031250   \n",
       "1     2023-12-04 11:30:00-03:00  127587.453125  127613.523438  127587.453125   \n",
       "2     2023-12-04 11:31:00-03:00  127577.640625  127591.148438  127577.640625   \n",
       "3     2023-12-04 11:32:00-03:00  127615.359375  127617.046875  127615.359375   \n",
       "4     2023-12-04 11:33:00-03:00  127698.460938  127698.460938  127671.132812   \n",
       "...                         ...            ...            ...            ...   \n",
       "2004  2023-12-08 16:54:00-03:00  127066.687500  127169.757812  127066.687500   \n",
       "2005  2023-12-08 16:55:00-03:00  127180.796875  127180.796875  127145.421875   \n",
       "2006  2023-12-08 16:56:00-03:00  127111.023438  127117.781250  127111.023438   \n",
       "2007  2023-12-08 16:57:00-03:00  127118.976562  127118.976562  127101.492188   \n",
       "2008  2023-12-08 16:58:00-03:00  127162.039062  127196.468750  127162.039062   \n",
       "\n",
       "              close  HT_DCPERIOD  HT_DCPHASE            ADD       DIV  \\\n",
       "0     127554.031250    21.191403   55.019323  255116.773438  1.000068   \n",
       "1     127613.523438    21.119264   68.492625  255200.976562  1.000204   \n",
       "2     127591.148438    21.330968   81.644226  255168.789062  1.000106   \n",
       "3     127617.046875    22.017217   94.351672  255232.406250  1.000013   \n",
       "4     127671.132812    23.249552  105.744247  255369.593750  1.000214   \n",
       "...             ...          ...         ...            ...       ...   \n",
       "2004  127169.757812    20.730092  168.494730  254236.445312  1.000811   \n",
       "2005  127145.421875    21.363536  171.420071  254326.218750  1.000278   \n",
       "2006  127117.781250    21.294634  175.181402  254228.804688  1.000053   \n",
       "2007  127101.492188    20.787720  179.762302  254220.468750  1.000138   \n",
       "2008  127196.468750    21.100119  183.540178  254358.507812  1.000271   \n",
       "\n",
       "                MAX  ...  LINEARREG_INTERCEPT  LINEARREG_SLOPE     STDDEV  \\\n",
       "0     127578.218750  ...        127425.843527         9.326614  23.767622   \n",
       "1     127613.523438  ...        127436.214955        10.084633  36.381383   \n",
       "2     127613.523438  ...        127443.225000        10.650910  29.961326   \n",
       "3     127617.046875  ...        127447.169866        11.804825  28.964385   \n",
       "4     127671.132812  ...        127444.277232        14.403692  38.171279   \n",
       "...             ...  ...                  ...              ...        ...   \n",
       "2004  127169.757812  ...        126566.146652        42.908499  88.303873   \n",
       "2005  127169.757812  ...        126598.784375        43.763685  50.753929   \n",
       "2006  127169.757812  ...        126650.460045        41.409306  40.641591   \n",
       "2007  127169.757812  ...        126696.506027        38.894334  27.522654   \n",
       "2008  127196.468750  ...        126736.983259        38.026185  34.318904   \n",
       "\n",
       "                TSF          VAR        ATR      NATR      TRANGE  D+0 ALTA  \\\n",
       "0     127556.416123   564.899843  27.622438  0.021655   14.585938         0   \n",
       "1     127577.399811  1323.605030  29.898848  0.023429   59.492188         1   \n",
       "2     127592.337740   897.681068  30.326274  0.023768   35.882812         1   \n",
       "3     127612.437414   838.935619  30.010000  0.023516   25.898438         1   \n",
       "4     127645.928915  1457.046568  33.681719  0.026382   81.414062         0   \n",
       "...             ...          ...        ...       ...         ...       ...   \n",
       "2004  127166.865642  7797.573917  51.486649  0.040487  103.070312         1   \n",
       "2005  127211.475962  2575.961313  50.335817  0.039589   35.375000         0   \n",
       "2006  127230.190333  1651.738884  49.197433  0.038702   34.398438         1   \n",
       "2007  127241.026700   757.496510  46.932215  0.036925   17.484375         0   \n",
       "2008  127269.349845  1177.787172  50.363954  0.039595   94.976562         1   \n",
       "\n",
       "      D+1 ALTA  \n",
       "0          1.0  \n",
       "1          1.0  \n",
       "2          1.0  \n",
       "3          0.0  \n",
       "4          0.0  \n",
       "...        ...  \n",
       "2004       0.0  \n",
       "2005       1.0  \n",
       "2006       0.0  \n",
       "2007       1.0  \n",
       "2008       0.0  \n",
       "\n",
       "[2009 rows x 78 columns]"
      ]
     },
     "execution_count": 2,
     "metadata": {},
     "output_type": "execute_result"
    }
   ],
   "source": [
    "dataset = pd.read_csv('data/dataset.csv')\n",
    "dataset"
   ]
  },
  {
   "cell_type": "markdown",
   "id": "4acb1745-affb-45ac-bb9c-85414d994a3d",
   "metadata": {},
   "source": [
    "## Data Preparation"
   ]
  },
  {
   "cell_type": "markdown",
   "id": "c82337fb-3d97-44ff-a36f-8af22536b22f",
   "metadata": {},
   "source": [
    "### Data segregation"
   ]
  },
  {
   "cell_type": "code",
   "execution_count": 3,
   "id": "fe69e4ca-ed72-497c-b274-a11d68c5c6d3",
   "metadata": {
    "scrolled": true
   },
   "outputs": [],
   "source": [
    "dataset['date'] = [dt.strftime(\"%Y-%m-%d\") for dt in pd.to_datetime(dataset['Datetime'])]"
   ]
  },
  {
   "cell_type": "code",
   "execution_count": 4,
   "id": "69434303-acb2-4956-9480-5106e14f1506",
   "metadata": {},
   "outputs": [],
   "source": [
    "training_set = pd.DataFrame()\n",
    "for data in ['2023-12-04','2023-12-05','2023-12-06']:\n",
    "    aux = dataset.query('date == @data')\n",
    "    training_set = pd.concat([training_set, aux], axis=0)\n",
    "val_set = dataset.query('date == \"2023-12-07\"')\n",
    "test_set = dataset.query('date == \"2023-12-08\"')"
   ]
  },
  {
   "cell_type": "code",
   "execution_count": 5,
   "id": "9a0abcc6-15ce-4aa3-8032-b07598211dcc",
   "metadata": {},
   "outputs": [],
   "source": [
    "# Traning set\n",
    "X_train = training_set.drop(['Datetime', 'date', 'D+1 ALTA'],axis=1)\n",
    "y_train = training_set['D+1 ALTA']\n",
    "# Validation set\n",
    "X_val = val_set.drop(['Datetime', 'date', 'D+1 ALTA'],axis=1)\n",
    "y_val = val_set['D+1 ALTA']\n",
    "# Validation set\n",
    "X_test = test_set.drop(['Datetime', 'date', 'D+1 ALTA'],axis=1)\n",
    "y_test = test_set['D+1 ALTA']"
   ]
  },
  {
   "cell_type": "markdown",
   "id": "8b79c47f-e137-4edf-8069-cfac7026336d",
   "metadata": {},
   "source": [
    "### Feature scaling"
   ]
  },
  {
   "cell_type": "code",
   "execution_count": 6,
   "id": "dbf69c9c-3919-42d9-9092-8e90e4a8a95c",
   "metadata": {},
   "outputs": [],
   "source": [
    "scaler = MinMaxScaler()\n",
    "scaler.fit(pd.concat([X_train, X_val],axis=0))\n",
    "X_train_scaled = scaler.transform(X_train)\n",
    "X_val_scaled = scaler.transform(X_val)\n",
    "X_test_scaled = scaler.transform(X_test)"
   ]
  },
  {
   "cell_type": "markdown",
   "id": "60a05596-b2e9-4c6e-bdae-d412a9df9385",
   "metadata": {},
   "source": [
    "## Modeling"
   ]
  },
  {
   "cell_type": "markdown",
   "id": "755ea92f-55da-4b11-b13c-e699da44c889",
   "metadata": {},
   "source": [
    "### Feature Extraction with Autoencoders"
   ]
  },
  {
   "cell_type": "code",
   "execution_count": 7,
   "id": "0575be07-95b7-4712-a6be-cfa9f8a907cd",
   "metadata": {},
   "outputs": [],
   "source": [
    "def autoencoder(X_train, X_val, epochs, verbose):\n",
    "    # Definir a arquitetura do autoencoder\n",
    "    input_dim = X_train.shape[1]\n",
    "    encoding_dim = 24\n",
    "    \n",
    "    input_layer = Input(shape=(input_dim,))\n",
    "    encoder_layer = Dense(encoding_dim, activation='relu')(input_layer)\n",
    "    decoder_layer = Dense(input_dim, activation='relu')(encoder_layer)\n",
    "    \n",
    "    autoencoder_model = Model(inputs=input_layer, outputs=decoder_layer)\n",
    "    \n",
    "    # Criar um modelo separado para o encoder\n",
    "    encoder_model = Model(inputs=input_layer, outputs=encoder_layer)\n",
    "\n",
    "    # Compilação do modelo\n",
    "    autoencoder_model.compile(optimizer='adam', loss='mse', metrics=['MAE'])\n",
    "\n",
    "    # Resumo da arquitetura da rede\n",
    "    autoencoder_model.summary()\n",
    "\n",
    "    history = autoencoder_model.fit(X_train, X_train, epochs=epochs, shuffle=True,\n",
    "                        validation_data=(X_val, X_val), verbose=verbose)\n",
    "\n",
    "    return autoencoder_model, encoder_model, history"
   ]
  },
  {
   "cell_type": "code",
   "execution_count": 8,
   "id": "da92dd9b-7341-4c2d-ac25-590277f6ce50",
   "metadata": {},
   "outputs": [
    {
     "name": "stdout",
     "output_type": "stream",
     "text": [
      "Model: \"model\"\n",
      "_________________________________________________________________\n",
      " Layer (type)                Output Shape              Param #   \n",
      "=================================================================\n",
      " input_1 (InputLayer)        [(None, 75)]              0         \n",
      "                                                                 \n",
      " dense (Dense)               (None, 24)                1824      \n",
      "                                                                 \n",
      " dense_1 (Dense)             (None, 75)                1875      \n",
      "                                                                 \n",
      "=================================================================\n",
      "Total params: 3,699\n",
      "Trainable params: 3,699\n",
      "Non-trainable params: 0\n",
      "_________________________________________________________________\n"
     ]
    }
   ],
   "source": [
    "autoencoder_model, encoder_nodel, history = autoencoder(X_train_scaled[:,0:-1], \n",
    "                                                        X_val_scaled[:,0:-1], \n",
    "                                                        epochs=150, verbose=0)"
   ]
  },
  {
   "cell_type": "code",
   "execution_count": 9,
   "id": "77c73ecf-5db7-4b6a-b7a4-255e2952c962",
   "metadata": {},
   "outputs": [
    {
     "data": {
      "image/png": "[encoded data removed]",
      "text/plain": [
       "<Figure size 800x500 with 1 Axes>"
      ]
     },
     "metadata": {},
     "output_type": "display_data"
    }
   ],
   "source": [
    "pd.DataFrame(history.history).plot(figsize=(8, 5))\n",
    "plt.grid(True)\n",
    "plt.gca().set_ylim(0, 0.4) # set the vertical range to [0-1]\n",
    "plt.show()"
   ]
  },
  {
   "cell_type": "code",
   "execution_count": 10,
   "id": "f4e3149a-b91a-4537-9f60-a72ecb80ad46",
   "metadata": {},
   "outputs": [
    {
     "name": "stdout",
     "output_type": "stream",
     "text": [
      "MAE = 0.08798778802156448\n"
     ]
    }
   ],
   "source": [
    "loss, mae = autoencoder_model.evaluate(X_test_scaled[:,0:-1], X_test_scaled[:,0:-1], verbose=0)\n",
    "#print(f'Loss \\t = {loss}')\n",
    "print(f'MAE = {mae}')"
   ]
  },
  {
   "cell_type": "code",
   "execution_count": 11,
   "id": "23081dac-9b37-4245-943e-20b7d068960e",
   "metadata": {},
   "outputs": [
    {
     "name": "stdout",
     "output_type": "stream",
     "text": [
      "37/37 [==============================] - 0s 1ms/step\n",
      "14/14 [==============================] - 0s 2ms/step\n",
      "14/14 [==============================] - 0s 2ms/step\n",
      "X_train_encoded shape: (1171, 24)\n",
      "X_val_encoded shape:(420, 24)\n",
      "X_test_encoded shape:(418, 24) \n"
     ]
    }
   ],
   "source": [
    "X_train_encoded = encoder_nodel.predict(X_train_scaled[:,0:-1])\n",
    "X_val_encoded = encoder_nodel.predict(X_val_scaled[:,0:-1])\n",
    "X_test_encoded = encoder_nodel.predict(X_test_scaled[:,0:-1])\n",
    "\n",
    "print(f\"X_train_encoded shape: {X_train_encoded.shape}\")\n",
    "print(f\"X_val_encoded shape:{X_val_encoded.shape}\")\n",
    "print(f\"X_test_encoded shape:{X_test_encoded.shape} \")"
   ]
  },
  {
   "cell_type": "code",
   "execution_count": 12,
   "id": "015c2596-bbec-46b9-932a-cf781b6320aa",
   "metadata": {},
   "outputs": [
    {
     "name": "stdout",
     "output_type": "stream",
     "text": [
      "X_train_encoded shape: (1171, 25)\n",
      "X_val_encoded shape:(420, 25)\n",
      "X_test_encoded shape:(418, 25) \n"
     ]
    }
   ],
   "source": [
    "X_train_encoded_plus_direction = np.column_stack((X_train_encoded, X_train_scaled[:,-1]))\n",
    "X_val_encoded_plus_direction = np.column_stack((X_val_encoded, X_val_scaled[:,-1]))\n",
    "X_test_encoded_plus_direction = np.column_stack((X_test_encoded, X_test_scaled[:,-1]))\n",
    "\n",
    "print(f\"X_train_encoded shape: {X_train_encoded_plus_direction.shape}\")\n",
    "print(f\"X_val_encoded shape:{X_val_encoded_plus_direction.shape}\")\n",
    "print(f\"X_test_encoded shape:{X_test_encoded_plus_direction.shape} \")"
   ]
  },
  {
   "cell_type": "markdown",
   "id": "7c582b0a-5b7b-455e-8260-48e6ee6c5cf3",
   "metadata": {},
   "source": [
    "### Stock Price Forecasting with LSTM"
   ]
  },
  {
   "cell_type": "markdown",
   "id": "6317f8b3-813f-4f01-b38f-b43c4311c6bd",
   "metadata": {},
   "source": [
    "#### Reshape data"
   ]
  },
  {
   "cell_type": "code",
   "execution_count": 13,
   "id": "b2ce94cc-75a8-4e4f-a390-27f7bdbe7041",
   "metadata": {},
   "outputs": [],
   "source": [
    "# Função para criar sequências de passos temporais\n",
    "def create_sequences(data, target, timesteps):\n",
    "    X = []\n",
    "    y = []\n",
    "    sequences = []\n",
    "    for i in range(len(data) - timesteps + 1):\n",
    "        # find the end of this pattern\n",
    "        end_ix = i + timesteps\n",
    "            # check if we are beyond the dataset\n",
    "        if end_ix > len(data):\n",
    "            break\n",
    "        seq_x = data[i:end_ix]\n",
    "        seq_y = target.iloc[end_ix-1]\n",
    "        X.append(seq_x)\n",
    "        y.append(seq_y)\n",
    "    return np.array(X), np.array(y) "
   ]
  },
  {
   "cell_type": "code",
   "execution_count": 14,
   "id": "264ec397-9859-4a50-beab-c563f5377f54",
   "metadata": {},
   "outputs": [
    {
     "name": "stdout",
     "output_type": "stream",
     "text": [
      "X_train_reshaped shape: (1167, 5, 25)\n",
      "y_train_reshaped shape: (1167,)\n",
      "X_val_reshaped shape: (416, 5, 25)\n",
      "y_val_reshaped shape: (416,)\n",
      "X_test_reshaped shape: (414, 5, 25)\n",
      "y_test_reshaped shape: (414,)\n"
     ]
    }
   ],
   "source": [
    "# Número de passos temporais desejados\n",
    "timesteps = 5\n",
    "\n",
    "# Aplicar a função ao DataFrame\n",
    "X_train_reshaped, y_train_reshaped = create_sequences(X_train_encoded_plus_direction, y_train, timesteps)\n",
    "X_val_reshaped, y_val_reshaped = create_sequences(X_val_encoded_plus_direction, y_val, timesteps)\n",
    "X_test_reshaped, y_test_reshaped = create_sequences(X_test_encoded_plus_direction, y_test, timesteps)\n",
    "\n",
    "print(f\"X_train_reshaped shape: {X_train_reshaped.shape}\")\n",
    "print(f\"y_train_reshaped shape: {y_train_reshaped.shape}\")\n",
    "print(f\"X_val_reshaped shape: {X_val_reshaped.shape}\")\n",
    "print(f\"y_val_reshaped shape: {y_val_reshaped.shape}\")\n",
    "print(f\"X_test_reshaped shape: {X_test_reshaped.shape}\")\n",
    "print(f\"y_test_reshaped shape: {y_test_reshaped.shape}\")"
   ]
  },
  {
   "cell_type": "markdown",
   "id": "2b833aba-b7c3-4c68-806b-b8e49beaa80b",
   "metadata": {},
   "source": [
    "#### Training"
   ]
  },
  {
   "cell_type": "code",
   "execution_count": 15,
   "id": "1ebf12fa-06d6-4110-9974-22d068f628ef",
   "metadata": {},
   "outputs": [
    {
     "name": "stdout",
     "output_type": "stream",
     "text": [
      "Model: \"sequential\"\n",
      "_________________________________________________________________\n",
      " Layer (type)                Output Shape              Param #   \n",
      "=================================================================\n",
      " lstm (LSTM)                 (None, 5, 100)            50400     \n",
      "                                                                 \n",
      " dropout (Dropout)           (None, 5, 100)            0         \n",
      "                                                                 \n",
      " lstm_1 (LSTM)               (None, 100)               80400     \n",
      "                                                                 \n",
      " dropout_1 (Dropout)         (None, 100)               0         \n",
      "                                                                 \n",
      " dense_2 (Dense)             (None, 1)                 101       \n",
      "                                                                 \n",
      "=================================================================\n",
      "Total params: 130,901\n",
      "Trainable params: 130,901\n",
      "Non-trainable params: 0\n",
      "_________________________________________________________________\n"
     ]
    }
   ],
   "source": [
    "n_steps_in = timesteps\n",
    "n_features = X_train_reshaped.shape[2]\n",
    "\n",
    "# Define\n",
    "model = Sequential()\n",
    "model.add(LSTM(100, activation='relu', return_sequences=True, input_shape=(n_steps_in,n_features)))\n",
    "model.add(Dropout(0.5))\n",
    "model.add(LSTM(100, activation='relu', return_sequences=False))\n",
    "model.add(Dropout(0.5))\n",
    "model.add(Dense(1, activation='sigmoid'))\n",
    "\n",
    "# Compile\n",
    "model.compile(optimizer='adam', loss='binary_crossentropy', metrics=['accuracy'])\n",
    "\n",
    "# Resumo da arquitetura da rede\n",
    "model.summary()\n",
    "\n",
    "# Fitting\n",
    "history = model.fit(X_train_reshaped, y_train_reshaped, epochs=60,\n",
    "                    validation_data=(X_val_reshaped, y_val_reshaped), verbose=0)"
   ]
  },
  {
   "cell_type": "code",
   "execution_count": 16,
   "id": "512bf29f-3f6a-42d9-bc9f-20575a46d6c9",
   "metadata": {},
   "outputs": [
    {
     "data": {
      "image/png": "[encoded data removed]",
      "text/plain": [
       "<Figure size 800x500 with 1 Axes>"
      ]
     },
     "metadata": {},
     "output_type": "display_data"
    }
   ],
   "source": [
    "pd.DataFrame(history.history).plot(figsize=(8, 5))\n",
    "plt.grid(True)\n",
    "plt.gca().set_ylim(0, 1) # set the vertical range to [0-1]\n",
    "plt.show()"
   ]
  },
  {
   "cell_type": "code",
   "execution_count": 17,
   "id": "bbaa4aa5-98b3-4983-89d1-a57c2a4ead0b",
   "metadata": {},
   "outputs": [
    {
     "name": "stdout",
     "output_type": "stream",
     "text": [
      "Accuracy = 0.512077271938324\n"
     ]
    }
   ],
   "source": [
    "loss, accuracy = model.evaluate(X_test_reshaped, y_test_reshaped, verbose=0)\n",
    "#print(f'Loss \\t = {loss}')\n",
    "print(f'Accuracy = {accuracy}')"
   ]
  },
  {
   "cell_type": "code",
   "execution_count": 18,
   "id": "a6806447-4254-4bf4-8099-8171afb75213",
   "metadata": {},
   "outputs": [
    {
     "name": "stdout",
     "output_type": "stream",
     "text": [
      "13/13 [==============================] - 0s 5ms/step\n"
     ]
    }
   ],
   "source": [
    "y_pred_probability = model.predict(X_test_reshaped)\n",
    "y_pred_binary = (y_pred_probability >= 0.5).astype(int)"
   ]
  },
  {
   "cell_type": "code",
   "execution_count": 19,
   "id": "30da0774-d783-46f1-bdb5-ac90f09bb027",
   "metadata": {},
   "outputs": [
    {
     "data": {
      "text/plain": [
       "1.0    207\n",
       "0.0    207\n",
       "Name: count, dtype: int64"
      ]
     },
     "execution_count": 19,
     "metadata": {},
     "output_type": "execute_result"
    }
   ],
   "source": [
    "pd.Series(y_test_reshaped.reshape(-1)).value_counts()"
   ]
  },
  {
   "cell_type": "code",
   "execution_count": 20,
   "id": "26e23b80-ca87-4385-99b5-9beba3f18278",
   "metadata": {},
   "outputs": [
    {
     "data": {
      "text/plain": [
       "1    389\n",
       "0     25\n",
       "Name: count, dtype: int64"
      ]
     },
     "execution_count": 20,
     "metadata": {},
     "output_type": "execute_result"
    }
   ],
   "source": [
    "pd.Series(y_pred_binary.reshape(-1)).value_counts()"
   ]
  },
  {
   "cell_type": "code",
   "execution_count": 21,
   "id": "45b1d2b1-e44a-4d37-bbaf-9fbad1d42daf",
   "metadata": {},
   "outputs": [
    {
     "data": {
      "image/png": "[encoded data removed]",
      "text/plain": [
       "<Figure size 640x480 with 2 Axes>"
      ]
     },
     "metadata": {},
     "output_type": "display_data"
    }
   ],
   "source": [
    "cm = confusion_matrix(y_test_reshaped.astype(int), y_pred_binary, labels=[0,1])\n",
    "disp = ConfusionMatrixDisplay(confusion_matrix=cm, display_labels=['DOWN','UP'])\n",
    "disp.plot(cmap='Blues')\n",
    "plt.grid(False)\n",
    "plt.show()"
   ]
  },
  {
   "cell_type": "code",
   "execution_count": 22,
   "id": "5d3172f3-d943-435b-920d-370d73ac6587",
   "metadata": {},
   "outputs": [
    {
     "data": {
      "image/png": "[encoded data removed]",
      "text/plain": [
       "<Figure size 640x480 with 2 Axes>"
      ]
     },
     "metadata": {},
     "output_type": "display_data"
    }
   ],
   "source": [
    "cm = confusion_matrix(y_test_reshaped.astype(int), y_pred_binary, labels=[0,1], normalize='pred')\n",
    "disp = ConfusionMatrixDisplay(confusion_matrix=cm, display_labels=['DOWN','UP'])\n",
    "disp.plot(cmap='Blues')\n",
    "plt.grid(False)\n",
    "plt.show()"
   ]
  },
  {
   "cell_type": "code",
   "execution_count": 23,
   "id": "750d6eb1-0883-482a-9a1e-c39faee03302",
   "metadata": {},
   "outputs": [
    {
     "data": {
      "image/png": "[encoded data removed]",
      "text/plain": [
       "<Figure size 640x480 with 2 Axes>"
      ]
     },
     "metadata": {},
     "output_type": "display_data"
    }
   ],
   "source": [
    "cm = confusion_matrix(y_test_reshaped.astype(int), y_pred_binary, labels=[0,1], normalize='true')\n",
    "disp = ConfusionMatrixDisplay(confusion_matrix=cm, display_labels=['DOWN','UP'])\n",
    "disp.plot(cmap='Blues')\n",
    "plt.grid(False)\n",
    "plt.show()"
   ]
  },
  {
   "cell_type": "code",
   "execution_count": 24,
   "id": "edaef555-ab45-4bfb-9857-4adad3c4d8af",
   "metadata": {},
   "outputs": [
    {
     "data": {
      "image/png": "[encoded data removed]",
      "text/plain": [
       "<Figure size 640x480 with 2 Axes>"
      ]
     },
     "metadata": {},
     "output_type": "display_data"
    }
   ],
   "source": [
    "cm = confusion_matrix(y_test_reshaped.astype(int), y_pred_binary, labels=[0,1], normalize='all')\n",
    "disp = ConfusionMatrixDisplay(confusion_matrix=cm, display_labels=['DOWN','UP'])\n",
    "disp.plot(cmap='Blues')\n",
    "plt.grid(False)\n",
    "plt.show()"
   ]
  },
  {
   "cell_type": "markdown",
   "id": "d55152f3-28c2-459f-9c66-38405d8ceb2d",
   "metadata": {},
   "source": [
    "## References"
   ]
  },
  {
   "cell_type": "markdown",
   "id": "d012e5ef-870a-41c5-a059-50a6b9ad6fff",
   "metadata": {},
   "source": [
    "A deep learning framework for financial time series using stacked autoencoders and long-short term memory \n",
    "https://stackoverflow.com/questions/77582620/tensorflow-pywrap-tf2-importerror-dll-load-failed"
   ]
  },
  {
   "cell_type": "markdown",
   "id": "dfe94a41-2ea8-4377-bfa9-b9050c971659",
   "metadata": {},
   "source": [
    "## Draft"
   ]
  }
 ],
 "metadata": {
  "kernelspec": {
   "display_name": "Python 3 (ipykernel)",
   "language": "python",
   "name": "python3"
  },
  "language_info": {
   "codemirror_mode": {
    "name": "ipython",
    "version": 3
   },
   "file_extension": ".py",
   "mimetype": "text/x-python",
   "name": "python",
   "nbconvert_exporter": "python",
   "pygments_lexer": "ipython3",
   "version": "3.9.6"
  }
 },
 "nbformat": 4,
 "nbformat_minor": 5
}
